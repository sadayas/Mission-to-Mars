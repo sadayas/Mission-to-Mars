{
 "cells": [
  {
   "cell_type": "code",
   "execution_count": 2,
   "id": "8e4f529a",
   "metadata": {},
   "outputs": [],
   "source": [
    "import pytest\n",
    "from selenium import webdriver\n",
    "from selenium.webdriver.chrome.service import Service as ChromeService\n",
    "from selenium.webdriver.edge.service import Service as EdgeService\n",
    "from selenium.webdriver.firefox.service import Service as FirefoxService\n",
    "from selenium.webdriver.ie.service import Service as IEService\n",
    "from webdriver_manager.chrome import ChromeDriverManager\n",
    "from webdriver_manager.firefox import GeckoDriverManager\n",
    "from webdriver_manager.microsoft import EdgeChromiumDriverManager\n",
    "from webdriver_manager.microsoft import IEDriverManager\n",
    "\n",
    "\n",
    "def test_driver_manager_chrome():\n",
    "    service = ChromeService(executable_path=ChromeDriverManager().install())\n",
    "\n",
    "    driver = webdriver.Chrome(service=service)\n",
    "\n",
    "    driver.quit()\n",
    "\n",
    "\n",
    "def test_edge_session():\n",
    "    service = EdgeService(executable_path=EdgeChromiumDriverManager().install())\n",
    "\n",
    "    driver = webdriver.Edge(service=service)\n",
    "\n",
    "    driver.quit()\n",
    "\n",
    "\n",
    "def test_firefox_session():\n",
    "    service = FirefoxService(executable_path=GeckoDriverManager().install())\n",
    "\n",
    "    driver = webdriver.Firefox(service=service)\n",
    "\n",
    "    driver.quit()\n",
    "\n",
    "\n",
    "@pytest.mark.skip(reason=\"only runs on Windows\")\n",
    "def test_ie_session():\n",
    "    service = IEService(executable_path=IEDriverManager().install())\n",
    "\n",
    "    driver = webdriver.Ie(service=service)\n",
    "\n",
    "    driver.quit()"
   ]
  },
  {
   "cell_type": "code",
   "execution_count": 3,
   "id": "2809e115",
   "metadata": {},
   "outputs": [
    {
     "name": "stdout",
     "output_type": "stream",
     "text": [
      "Requirement already satisfied: webdriver_manager in c:\\users\\steven\\.conda\\envs\\pythondata\\lib\\site-packages (3.7.0)\n",
      "Note: you may need to restart the kernel to use updated packages.Requirement already satisfied: requests in c:\\users\\steven\\.conda\\envs\\pythondata\\lib\\site-packages (from webdriver_manager) (2.26.0)\n",
      "Requirement already satisfied: python-dotenv in c:\\users\\steven\\.conda\\envs\\pythondata\\lib\\site-packages (from webdriver_manager) (0.20.0)\n",
      "Requirement already satisfied: urllib3<1.27,>=1.21.1 in c:\\users\\steven\\.conda\\envs\\pythondata\\lib\\site-packages (from requests->webdriver_manager) (1.26.7)\n",
      "Requirement already satisfied: charset-normalizer~=2.0.0 in c:\\users\\steven\\.conda\\envs\\pythondata\\lib\\site-packages (from requests->webdriver_manager) (2.0.4)\n",
      "Requirement already satisfied: idna<4,>=2.5 in c:\\users\\steven\\.conda\\envs\\pythondata\\lib\\site-packages (from requests->webdriver_manager) (3.2)\n",
      "Requirement already satisfied: certifi>=2017.4.17 in c:\\users\\steven\\.conda\\envs\\pythondata\\lib\\site-packages (from requests->webdriver_manager) (2021.10.8)\n",
      "\n"
     ]
    }
   ],
   "source": [
    "\n"
   ]
  },
  {
   "cell_type": "code",
   "execution_count": 4,
   "id": "19bedafd",
   "metadata": {},
   "outputs": [
    {
     "name": "stdout",
     "output_type": "stream",
     "text": [
      "Requirement already satisfied: bs4 in c:\\users\\steven\\.conda\\envs\\pythondata\\lib\\site-packages (0.0.1)\n",
      "Requirement already satisfied: beautifulsoup4 in c:\\users\\steven\\.conda\\envs\\pythondata\\lib\\site-packages (from bs4) (4.10.0)\n",
      "Requirement already satisfied: soupsieve>1.2 in c:\\users\\steven\\.conda\\envs\\pythondata\\lib\\site-packages (from beautifulsoup4->bs4) (2.2.1)\n",
      "Note: you may need to restart the kernel to use updated packages.\n"
     ]
    }
   ],
   "source": []
  },
  {
   "cell_type": "code",
   "execution_count": null,
   "id": "57958ec2",
   "metadata": {},
   "outputs": [],
   "source": []
  }
 ],
 "metadata": {
  "kernelspec": {
   "display_name": "PythonData",
   "language": "python",
   "name": "pythondata"
  },
  "language_info": {
   "codemirror_mode": {
    "name": "ipython",
    "version": 3
   },
   "file_extension": ".py",
   "mimetype": "text/x-python",
   "name": "python",
   "nbconvert_exporter": "python",
   "pygments_lexer": "ipython3",
   "version": "3.7.11"
  }
 },
 "nbformat": 4,
 "nbformat_minor": 5
}
